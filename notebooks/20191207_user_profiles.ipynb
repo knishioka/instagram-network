{
 "cells": [
  {
   "cell_type": "code",
   "execution_count": 1,
   "metadata": {},
   "outputs": [],
   "source": [
    "import glob\n",
    "import instaloader\n",
    "import json\n",
    "import pandas as pd\n",
    "import sys\n",
    "from pathlib import Path\n",
    "\n",
    "sys.path.append(str(Path.cwd().parent))\n",
    "from instagram_network.user import get_profile"
   ]
  },
  {
   "cell_type": "code",
   "execution_count": 2,
   "metadata": {},
   "outputs": [],
   "source": [
    "files = glob.glob('../data/*_followees.json')"
   ]
  },
  {
   "cell_type": "code",
   "execution_count": 3,
   "metadata": {},
   "outputs": [
    {
     "data": {
      "text/plain": [
       "'juxtapozmag'"
      ]
     },
     "execution_count": 3,
     "metadata": {},
     "output_type": "execute_result"
    }
   ],
   "source": [
    "list(json.load(open(files[0])))[0]"
   ]
  },
  {
   "cell_type": "code",
   "execution_count": 4,
   "metadata": {},
   "outputs": [],
   "source": [
    "all_users = [get_profile(list(json.load(open(f)))[0]) for f in files]"
   ]
  },
  {
   "cell_type": "code",
   "execution_count": 5,
   "metadata": {},
   "outputs": [
    {
     "data": {
      "text/html": [
       "<div>\n",
       "<style scoped>\n",
       "    .dataframe tbody tr th:only-of-type {\n",
       "        vertical-align: middle;\n",
       "    }\n",
       "\n",
       "    .dataframe tbody tr th {\n",
       "        vertical-align: top;\n",
       "    }\n",
       "\n",
       "    .dataframe thead th {\n",
       "        text-align: right;\n",
       "    }\n",
       "</style>\n",
       "<table border=\"1\" class=\"dataframe\">\n",
       "  <thead>\n",
       "    <tr style=\"text-align: right;\">\n",
       "      <th></th>\n",
       "      <th>userid</th>\n",
       "      <th>username</th>\n",
       "      <th>full_nam</th>\n",
       "      <th>is_verified</th>\n",
       "      <th>biography</th>\n",
       "      <th>followees</th>\n",
       "      <th>followers</th>\n",
       "      <th>mediacount</th>\n",
       "    </tr>\n",
       "  </thead>\n",
       "  <tbody>\n",
       "    <tr>\n",
       "      <th>0</th>\n",
       "      <td>9229078</td>\n",
       "      <td>juxtapozmag</td>\n",
       "      <td>Juxtapoz Magazine</td>\n",
       "      <td>True</td>\n",
       "      <td>Art. Culture. 25 Years Strong. est 1994.</td>\n",
       "      <td>2506</td>\n",
       "      <td>1169431</td>\n",
       "      <td>9004</td>\n",
       "    </tr>\n",
       "    <tr>\n",
       "      <th>1</th>\n",
       "      <td>551082784</td>\n",
       "      <td>ratio3</td>\n",
       "      <td>Ratio 3</td>\n",
       "      <td>False</td>\n",
       "      <td>Ratio 3 is a contemporary art gallery in San F...</td>\n",
       "      <td>477</td>\n",
       "      <td>15659</td>\n",
       "      <td>502</td>\n",
       "    </tr>\n",
       "    <tr>\n",
       "      <th>2</th>\n",
       "      <td>293286474</td>\n",
       "      <td>galerieperrotin</td>\n",
       "      <td>Perrotin Gallery</td>\n",
       "      <td>True</td>\n",
       "      <td>Paris - Hong Kong - New York - Seoul - Tokyo -...</td>\n",
       "      <td>1948</td>\n",
       "      <td>364225</td>\n",
       "      <td>2086</td>\n",
       "    </tr>\n",
       "    <tr>\n",
       "      <th>3</th>\n",
       "      <td>5843166317</td>\n",
       "      <td>rosskramergallery</td>\n",
       "      <td>Ross+Kramer Gallery</td>\n",
       "      <td>False</td>\n",
       "      <td>Feb James/John Rivas  “Double Trouble” NYC.</td>\n",
       "      <td>93</td>\n",
       "      <td>6237</td>\n",
       "      <td>165</td>\n",
       "    </tr>\n",
       "    <tr>\n",
       "      <th>4</th>\n",
       "      <td>215122360</td>\n",
       "      <td>nicolasparty</td>\n",
       "      <td></td>\n",
       "      <td>True</td>\n",
       "      <td></td>\n",
       "      <td>522</td>\n",
       "      <td>36239</td>\n",
       "      <td>245</td>\n",
       "    </tr>\n",
       "  </tbody>\n",
       "</table>\n",
       "</div>"
      ],
      "text/plain": [
       "       userid           username             full_nam  is_verified  \\\n",
       "0     9229078        juxtapozmag    Juxtapoz Magazine         True   \n",
       "1   551082784             ratio3              Ratio 3        False   \n",
       "2   293286474    galerieperrotin     Perrotin Gallery         True   \n",
       "3  5843166317  rosskramergallery  Ross+Kramer Gallery        False   \n",
       "4   215122360       nicolasparty                              True   \n",
       "\n",
       "                                           biography  followees  followers  \\\n",
       "0           Art. Culture. 25 Years Strong. est 1994.       2506    1169431   \n",
       "1  Ratio 3 is a contemporary art gallery in San F...        477      15659   \n",
       "2  Paris - Hong Kong - New York - Seoul - Tokyo -...       1948     364225   \n",
       "3        Feb James/John Rivas  “Double Trouble” NYC.         93       6237   \n",
       "4                                                           522      36239   \n",
       "\n",
       "   mediacount  \n",
       "0        9004  \n",
       "1         502  \n",
       "2        2086  \n",
       "3         165  \n",
       "4         245  "
      ]
     },
     "execution_count": 5,
     "metadata": {},
     "output_type": "execute_result"
    }
   ],
   "source": [
    "df = pd.DataFrame(all_users)\n",
    "df.head()"
   ]
  },
  {
   "cell_type": "code",
   "execution_count": 6,
   "metadata": {},
   "outputs": [],
   "source": [
    "df.to_csv('20191207_user_profiles.csv', index=False)"
   ]
  }
 ],
 "metadata": {
  "kernelspec": {
   "display_name": "Python 3",
   "language": "python",
   "name": "python3"
  },
  "language_info": {
   "codemirror_mode": {
    "name": "ipython",
    "version": 3
   },
   "file_extension": ".py",
   "mimetype": "text/x-python",
   "name": "python",
   "nbconvert_exporter": "python",
   "pygments_lexer": "ipython3",
   "version": "3.7.5"
  }
 },
 "nbformat": 4,
 "nbformat_minor": 2
}
