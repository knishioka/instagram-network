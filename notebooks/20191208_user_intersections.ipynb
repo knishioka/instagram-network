{
 "cells": [
  {
   "cell_type": "markdown",
   "metadata": {},
   "source": [
    "# Overview\n",
    "\n",
    "Investigate famous instagrammers' following intersections."
   ]
  },
  {
   "cell_type": "code",
   "execution_count": 1,
   "metadata": {},
   "outputs": [],
   "source": [
    "%matplotlib inline\n",
    "\n",
    "import glob\n",
    "import instaloader\n",
    "import json\n",
    "import pandas as pd\n",
    "import sys\n",
    "from functools import reduce\n",
    "from pathlib import Path\n",
    "\n",
    "sys.path.append(str(Path.cwd().parent))\n",
    "from instagram_network.user import get_profile\n",
    "from instagram_network.followee_intersections import list_to_true_value_dict"
   ]
  },
  {
   "cell_type": "code",
   "execution_count": 2,
   "metadata": {},
   "outputs": [],
   "source": [
    "files = glob.glob('../data/*_followees.json')\n",
    "targets = [json.load(open(file)) for file in files]"
   ]
  },
  {
   "cell_type": "markdown",
   "metadata": {},
   "source": [
    "## Famous Instagrammers' Profiles"
   ]
  },
  {
   "cell_type": "code",
   "execution_count": 3,
   "metadata": {},
   "outputs": [],
   "source": [
    "famous_instagrammers = [get_profile(list(t)[0]) for t in targets]"
   ]
  },
  {
   "cell_type": "code",
   "execution_count": 4,
   "metadata": {},
   "outputs": [
    {
     "data": {
      "text/html": [
       "<div>\n",
       "<style scoped>\n",
       "    .dataframe tbody tr th:only-of-type {\n",
       "        vertical-align: middle;\n",
       "    }\n",
       "\n",
       "    .dataframe tbody tr th {\n",
       "        vertical-align: top;\n",
       "    }\n",
       "\n",
       "    .dataframe thead th {\n",
       "        text-align: right;\n",
       "    }\n",
       "</style>\n",
       "<table border=\"1\" class=\"dataframe\">\n",
       "  <thead>\n",
       "    <tr style=\"text-align: right;\">\n",
       "      <th></th>\n",
       "      <th>userid</th>\n",
       "      <th>username</th>\n",
       "      <th>full_name</th>\n",
       "      <th>is_verified</th>\n",
       "      <th>biography</th>\n",
       "      <th>followees</th>\n",
       "      <th>followers</th>\n",
       "      <th>mediacount</th>\n",
       "    </tr>\n",
       "  </thead>\n",
       "  <tbody>\n",
       "    <tr>\n",
       "      <th>0</th>\n",
       "      <td>9229078</td>\n",
       "      <td>juxtapozmag</td>\n",
       "      <td>Juxtapoz Magazine</td>\n",
       "      <td>True</td>\n",
       "      <td>Art. Culture. 25 Years Strong. est 1994.</td>\n",
       "      <td>2506</td>\n",
       "      <td>1169579</td>\n",
       "      <td>9007</td>\n",
       "    </tr>\n",
       "    <tr>\n",
       "      <th>1</th>\n",
       "      <td>551082784</td>\n",
       "      <td>ratio3</td>\n",
       "      <td>Ratio 3</td>\n",
       "      <td>False</td>\n",
       "      <td>Ratio 3 is a contemporary art gallery in San F...</td>\n",
       "      <td>478</td>\n",
       "      <td>15653</td>\n",
       "      <td>503</td>\n",
       "    </tr>\n",
       "    <tr>\n",
       "      <th>2</th>\n",
       "      <td>293286474</td>\n",
       "      <td>galerieperrotin</td>\n",
       "      <td>Perrotin Gallery</td>\n",
       "      <td>True</td>\n",
       "      <td>Paris - Hong Kong - New York - Seoul - Tokyo -...</td>\n",
       "      <td>1949</td>\n",
       "      <td>366835</td>\n",
       "      <td>2087</td>\n",
       "    </tr>\n",
       "    <tr>\n",
       "      <th>3</th>\n",
       "      <td>5843166317</td>\n",
       "      <td>rosskramergallery</td>\n",
       "      <td>Ross+Kramer Gallery</td>\n",
       "      <td>False</td>\n",
       "      <td>Feb James/John Rivas  “Double Trouble” NYC.</td>\n",
       "      <td>93</td>\n",
       "      <td>6248</td>\n",
       "      <td>165</td>\n",
       "    </tr>\n",
       "    <tr>\n",
       "      <th>4</th>\n",
       "      <td>215122360</td>\n",
       "      <td>nicolasparty</td>\n",
       "      <td></td>\n",
       "      <td>True</td>\n",
       "      <td></td>\n",
       "      <td>526</td>\n",
       "      <td>36282</td>\n",
       "      <td>245</td>\n",
       "    </tr>\n",
       "  </tbody>\n",
       "</table>\n",
       "</div>"
      ],
      "text/plain": [
       "       userid           username            full_name  is_verified  \\\n",
       "0     9229078        juxtapozmag    Juxtapoz Magazine         True   \n",
       "1   551082784             ratio3              Ratio 3        False   \n",
       "2   293286474    galerieperrotin     Perrotin Gallery         True   \n",
       "3  5843166317  rosskramergallery  Ross+Kramer Gallery        False   \n",
       "4   215122360       nicolasparty                              True   \n",
       "\n",
       "                                           biography  followees  followers  \\\n",
       "0           Art. Culture. 25 Years Strong. est 1994.       2506    1169579   \n",
       "1  Ratio 3 is a contemporary art gallery in San F...        478      15653   \n",
       "2  Paris - Hong Kong - New York - Seoul - Tokyo -...       1949     366835   \n",
       "3        Feb James/John Rivas  “Double Trouble” NYC.         93       6248   \n",
       "4                                                           526      36282   \n",
       "\n",
       "   mediacount  \n",
       "0        9007  \n",
       "1         503  \n",
       "2        2087  \n",
       "3         165  \n",
       "4         245  "
      ]
     },
     "execution_count": 4,
     "metadata": {},
     "output_type": "execute_result"
    }
   ],
   "source": [
    "instagrammer_df = pd.DataFrame(famous_instagrammers)\n",
    "instagrammer_df.head()"
   ]
  },
  {
   "cell_type": "code",
   "execution_count": 5,
   "metadata": {},
   "outputs": [],
   "source": [
    "instagrammer_df.to_csv('20191207_user_profiles.csv', index=False)"
   ]
  },
  {
   "cell_type": "markdown",
   "metadata": {},
   "source": [
    "# Instersection Counts"
   ]
  },
  {
   "cell_type": "code",
   "execution_count": 6,
   "metadata": {},
   "outputs": [],
   "source": [
    "all_followee_list = reduce(lambda x, y: {**x, **y}, targets, dict())"
   ]
  },
  {
   "cell_type": "code",
   "execution_count": 7,
   "metadata": {},
   "outputs": [],
   "source": [
    "followee_df = pd.DataFrame({k: list_to_true_value_dict(v) for k, v in all_followee_list.items()}).fillna(False)"
   ]
  },
  {
   "cell_type": "code",
   "execution_count": 8,
   "metadata": {},
   "outputs": [
    {
     "data": {
      "text/plain": [
       "count    24693.000000\n",
       "mean         1.286559\n",
       "std          1.007109\n",
       "min          1.000000\n",
       "25%          1.000000\n",
       "50%          1.000000\n",
       "75%          1.000000\n",
       "max         15.000000\n",
       "dtype: float64"
      ]
     },
     "execution_count": 8,
     "metadata": {},
     "output_type": "execute_result"
    }
   ],
   "source": [
    "followee_df.sum(1).describe()"
   ]
  },
  {
   "cell_type": "code",
   "execution_count": 9,
   "metadata": {},
   "outputs": [],
   "source": [
    "top50_users = followee_df.sum(1).nlargest(50, keep='all').rename('intersection_count')"
   ]
  },
  {
   "cell_type": "code",
   "execution_count": 10,
   "metadata": {},
   "outputs": [
    {
     "data": {
      "text/plain": [
       "<matplotlib.axes._subplots.AxesSubplot at 0x120381dd0>"
      ]
     },
     "execution_count": 10,
     "metadata": {},
     "output_type": "execute_result"
    },
    {
     "data": {
      "image/png": "[encoded data removed]",
      "text/plain": [
       "<Figure size 864x576 with 1 Axes>"
      ]
     },
     "metadata": {
      "needs_background": "light"
     },
     "output_type": "display_data"
    }
   ],
   "source": [
    "top50_users.plot.bar(figsize=(12, 8))"
   ]
  },
  {
   "cell_type": "markdown",
   "metadata": {},
   "source": [
    "# Who are following users in the intersections"
   ]
  },
  {
   "cell_type": "code",
   "execution_count": 11,
   "metadata": {},
   "outputs": [],
   "source": [
    "top50_followee_df = followee_df.loc[top50_users.index]"
   ]
  },
  {
   "cell_type": "code",
   "execution_count": 12,
   "metadata": {},
   "outputs": [],
   "source": [
    "def concat_followers_name(s):\n",
    "    \"\"\"Get following user names as csv.\n",
    "    Args:\n",
    "        s (pd.Series): the values are True (following) or False (not following).\n",
    "\n",
    "    \"\"\"\n",
    "    return ','.join(s[s].index)"
   ]
  },
  {
   "cell_type": "code",
   "execution_count": 13,
   "metadata": {},
   "outputs": [],
   "source": [
    "followings = top50_followee_df.apply(concat_followers_name, axis=1).rename('following_users')"
   ]
  },
  {
   "cell_type": "code",
   "execution_count": 14,
   "metadata": {},
   "outputs": [
    {
     "data": {
      "text/html": [
       "<div>\n",
       "<style scoped>\n",
       "    .dataframe tbody tr th:only-of-type {\n",
       "        vertical-align: middle;\n",
       "    }\n",
       "\n",
       "    .dataframe tbody tr th {\n",
       "        vertical-align: top;\n",
       "    }\n",
       "\n",
       "    .dataframe thead th {\n",
       "        text-align: right;\n",
       "    }\n",
       "</style>\n",
       "<table border=\"1\" class=\"dataframe\">\n",
       "  <thead>\n",
       "    <tr style=\"text-align: right;\">\n",
       "      <th></th>\n",
       "      <th>intersection_count</th>\n",
       "      <th>following_users</th>\n",
       "    </tr>\n",
       "  </thead>\n",
       "  <tbody>\n",
       "    <tr>\n",
       "      <th>whitneymuseum</th>\n",
       "      <td>15</td>\n",
       "      <td>juxtapozmag,ratio3,galerieperrotin,rosskramerg...</td>\n",
       "    </tr>\n",
       "    <tr>\n",
       "      <th>artforum</th>\n",
       "      <td>15</td>\n",
       "      <td>juxtapozmag,ratio3,galerieperrotin,nicolaspart...</td>\n",
       "    </tr>\n",
       "    <tr>\n",
       "      <th>frieze_magazine</th>\n",
       "      <td>14</td>\n",
       "      <td>juxtapozmag,ratio3,galerieperrotin,nicolaspart...</td>\n",
       "    </tr>\n",
       "    <tr>\n",
       "      <th>davidzwirner</th>\n",
       "      <td>14</td>\n",
       "      <td>juxtapozmag,ratio3,galerieperrotin,nicolaspart...</td>\n",
       "    </tr>\n",
       "    <tr>\n",
       "      <th>friezeartfair</th>\n",
       "      <td>14</td>\n",
       "      <td>juxtapozmag,ratio3,galerieperrotin,nicolaspart...</td>\n",
       "    </tr>\n",
       "    <tr>\n",
       "      <th>...</th>\n",
       "      <td>...</td>\n",
       "      <td>...</td>\n",
       "    </tr>\n",
       "    <tr>\n",
       "      <th>karmakarma9</th>\n",
       "      <td>10</td>\n",
       "      <td>ratio3,nicolasparty,simondepury,takashipom,lis...</td>\n",
       "    </tr>\n",
       "    <tr>\n",
       "      <th>michaelxufuhuang</th>\n",
       "      <td>10</td>\n",
       "      <td>galerieperrotin,nicolasparty,simondepury,paceg...</td>\n",
       "    </tr>\n",
       "    <tr>\n",
       "      <th>simondepury</th>\n",
       "      <td>10</td>\n",
       "      <td>galerieperrotin,elmersfud,pacegallery,takaship...</td>\n",
       "    </tr>\n",
       "    <tr>\n",
       "      <th>lizny3</th>\n",
       "      <td>10</td>\n",
       "      <td>nicolasparty,elmersfud,simondepury,takashipom,...</td>\n",
       "    </tr>\n",
       "    <tr>\n",
       "      <th>petzelgallery</th>\n",
       "      <td>10</td>\n",
       "      <td>simondepury,takashipom,lisaschiff123,theholeny...</td>\n",
       "    </tr>\n",
       "  </tbody>\n",
       "</table>\n",
       "<p>66 rows × 2 columns</p>\n",
       "</div>"
      ],
      "text/plain": [
       "                  intersection_count  \\\n",
       "whitneymuseum                     15   \n",
       "artforum                          15   \n",
       "frieze_magazine                   14   \n",
       "davidzwirner                      14   \n",
       "friezeartfair                     14   \n",
       "...                              ...   \n",
       "karmakarma9                       10   \n",
       "michaelxufuhuang                  10   \n",
       "simondepury                       10   \n",
       "lizny3                            10   \n",
       "petzelgallery                     10   \n",
       "\n",
       "                                                    following_users  \n",
       "whitneymuseum     juxtapozmag,ratio3,galerieperrotin,rosskramerg...  \n",
       "artforum          juxtapozmag,ratio3,galerieperrotin,nicolaspart...  \n",
       "frieze_magazine   juxtapozmag,ratio3,galerieperrotin,nicolaspart...  \n",
       "davidzwirner      juxtapozmag,ratio3,galerieperrotin,nicolaspart...  \n",
       "friezeartfair     juxtapozmag,ratio3,galerieperrotin,nicolaspart...  \n",
       "...                                                             ...  \n",
       "karmakarma9       ratio3,nicolasparty,simondepury,takashipom,lis...  \n",
       "michaelxufuhuang  galerieperrotin,nicolasparty,simondepury,paceg...  \n",
       "simondepury       galerieperrotin,elmersfud,pacegallery,takaship...  \n",
       "lizny3            nicolasparty,elmersfud,simondepury,takashipom,...  \n",
       "petzelgallery     simondepury,takashipom,lisaschiff123,theholeny...  \n",
       "\n",
       "[66 rows x 2 columns]"
      ]
     },
     "execution_count": 14,
     "metadata": {},
     "output_type": "execute_result"
    }
   ],
   "source": [
    "pd.concat([top50_users, followings], axis=1)"
   ]
  },
  {
   "cell_type": "markdown",
   "metadata": {},
   "source": [
    "# Followed Users' Profiles"
   ]
  },
  {
   "cell_type": "code",
   "execution_count": 15,
   "metadata": {},
   "outputs": [],
   "source": [
    "followed_users_profiles = [get_profile(username) for username in top50_users.index]"
   ]
  },
  {
   "cell_type": "code",
   "execution_count": 16,
   "metadata": {},
   "outputs": [],
   "source": [
    "users_profiles = pd.DataFrame(followed_users_profiles).set_index('username')"
   ]
  },
  {
   "cell_type": "code",
   "execution_count": 17,
   "metadata": {},
   "outputs": [
    {
     "data": {
      "text/html": [
       "<div>\n",
       "<style scoped>\n",
       "    .dataframe tbody tr th:only-of-type {\n",
       "        vertical-align: middle;\n",
       "    }\n",
       "\n",
       "    .dataframe tbody tr th {\n",
       "        vertical-align: top;\n",
       "    }\n",
       "\n",
       "    .dataframe thead th {\n",
       "        text-align: right;\n",
       "    }\n",
       "</style>\n",
       "<table border=\"1\" class=\"dataframe\">\n",
       "  <thead>\n",
       "    <tr style=\"text-align: right;\">\n",
       "      <th></th>\n",
       "      <th>intersection_count</th>\n",
       "      <th>following_users</th>\n",
       "      <th>userid</th>\n",
       "      <th>full_name</th>\n",
       "      <th>is_verified</th>\n",
       "      <th>biography</th>\n",
       "      <th>followees</th>\n",
       "      <th>followers</th>\n",
       "      <th>mediacount</th>\n",
       "    </tr>\n",
       "    <tr>\n",
       "      <th>username</th>\n",
       "      <th></th>\n",
       "      <th></th>\n",
       "      <th></th>\n",
       "      <th></th>\n",
       "      <th></th>\n",
       "      <th></th>\n",
       "      <th></th>\n",
       "      <th></th>\n",
       "      <th></th>\n",
       "    </tr>\n",
       "  </thead>\n",
       "  <tbody>\n",
       "    <tr>\n",
       "      <th>whitneymuseum</th>\n",
       "      <td>15</td>\n",
       "      <td>juxtapozmag,ratio3,galerieperrotin,rosskramerg...</td>\n",
       "      <td>509323103</td>\n",
       "      <td>Whitney Museum of American Art</td>\n",
       "      <td>True</td>\n",
       "      <td>The Whitney houses one of the world's foremost...</td>\n",
       "      <td>270</td>\n",
       "      <td>1014639</td>\n",
       "      <td>2029</td>\n",
       "    </tr>\n",
       "    <tr>\n",
       "      <th>artforum</th>\n",
       "      <td>15</td>\n",
       "      <td>juxtapozmag,ratio3,galerieperrotin,nicolaspart...</td>\n",
       "      <td>321268499</td>\n",
       "      <td>Artforum</td>\n",
       "      <td>True</td>\n",
       "      <td>Defining the world of contemporary art since 1962</td>\n",
       "      <td>2458</td>\n",
       "      <td>1124453</td>\n",
       "      <td>3814</td>\n",
       "    </tr>\n",
       "    <tr>\n",
       "      <th>frieze_magazine</th>\n",
       "      <td>14</td>\n",
       "      <td>juxtapozmag,ratio3,galerieperrotin,nicolaspart...</td>\n",
       "      <td>469454735</td>\n",
       "      <td>frieze</td>\n",
       "      <td>True</td>\n",
       "      <td>frieze is the leading magazine of contemporary...</td>\n",
       "      <td>2261</td>\n",
       "      <td>542818</td>\n",
       "      <td>5752</td>\n",
       "    </tr>\n",
       "    <tr>\n",
       "      <th>davidzwirner</th>\n",
       "      <td>14</td>\n",
       "      <td>juxtapozmag,ratio3,galerieperrotin,nicolaspart...</td>\n",
       "      <td>409186601</td>\n",
       "      <td>David Zwirner</td>\n",
       "      <td>True</td>\n",
       "      <td>#DavidZwirner is a contemporary art gallery wi...</td>\n",
       "      <td>1264</td>\n",
       "      <td>536213</td>\n",
       "      <td>2906</td>\n",
       "    </tr>\n",
       "    <tr>\n",
       "      <th>friezeartfair</th>\n",
       "      <td>14</td>\n",
       "      <td>juxtapozmag,ratio3,galerieperrotin,nicolaspart...</td>\n",
       "      <td>365071579</td>\n",
       "      <td>Frieze</td>\n",
       "      <td>True</td>\n",
       "      <td>UPCOMING FAIRS:\\nFrieze Los Angeles\\nFebruary ...</td>\n",
       "      <td>2501</td>\n",
       "      <td>689906</td>\n",
       "      <td>2796</td>\n",
       "    </tr>\n",
       "  </tbody>\n",
       "</table>\n",
       "</div>"
      ],
      "text/plain": [
       "                 intersection_count  \\\n",
       "username                              \n",
       "whitneymuseum                    15   \n",
       "artforum                         15   \n",
       "frieze_magazine                  14   \n",
       "davidzwirner                     14   \n",
       "friezeartfair                    14   \n",
       "\n",
       "                                                   following_users     userid  \\\n",
       "username                                                                        \n",
       "whitneymuseum    juxtapozmag,ratio3,galerieperrotin,rosskramerg...  509323103   \n",
       "artforum         juxtapozmag,ratio3,galerieperrotin,nicolaspart...  321268499   \n",
       "frieze_magazine  juxtapozmag,ratio3,galerieperrotin,nicolaspart...  469454735   \n",
       "davidzwirner     juxtapozmag,ratio3,galerieperrotin,nicolaspart...  409186601   \n",
       "friezeartfair    juxtapozmag,ratio3,galerieperrotin,nicolaspart...  365071579   \n",
       "\n",
       "                                      full_name  is_verified  \\\n",
       "username                                                       \n",
       "whitneymuseum    Whitney Museum of American Art         True   \n",
       "artforum                               Artforum         True   \n",
       "frieze_magazine                          frieze         True   \n",
       "davidzwirner                      David Zwirner         True   \n",
       "friezeartfair                            Frieze         True   \n",
       "\n",
       "                                                         biography  followees  \\\n",
       "username                                                                        \n",
       "whitneymuseum    The Whitney houses one of the world's foremost...        270   \n",
       "artforum         Defining the world of contemporary art since 1962       2458   \n",
       "frieze_magazine  frieze is the leading magazine of contemporary...       2261   \n",
       "davidzwirner     #DavidZwirner is a contemporary art gallery wi...       1264   \n",
       "friezeartfair    UPCOMING FAIRS:\\nFrieze Los Angeles\\nFebruary ...       2501   \n",
       "\n",
       "                 followers  mediacount  \n",
       "username                                \n",
       "whitneymuseum      1014639        2029  \n",
       "artforum           1124453        3814  \n",
       "frieze_magazine     542818        5752  \n",
       "davidzwirner        536213        2906  \n",
       "friezeartfair       689906        2796  "
      ]
     },
     "execution_count": 17,
     "metadata": {},
     "output_type": "execute_result"
    }
   ],
   "source": [
    "users_info = pd.concat([top50_users, followings, users_profiles], axis=1)\n",
    "users_info.head()"
   ]
  },
  {
   "cell_type": "code",
   "execution_count": 18,
   "metadata": {},
   "outputs": [],
   "source": [
    "users_info.to_csv('20191208_intersections_with_users_info.csv')"
   ]
  }
 ],
 "metadata": {
  "kernelspec": {
   "display_name": "Python 3",
   "language": "python",
   "name": "python3"
  },
  "language_info": {
   "codemirror_mode": {
    "name": "ipython",
    "version": 3
   },
   "file_extension": ".py",
   "mimetype": "text/x-python",
   "name": "python",
   "nbconvert_exporter": "python",
   "pygments_lexer": "ipython3",
   "version": "3.7.5"
  }
 },
 "nbformat": 4,
 "nbformat_minor": 2
}
